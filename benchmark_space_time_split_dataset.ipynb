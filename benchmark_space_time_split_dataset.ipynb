{
 "cells": [
  {
   "cell_type": "markdown",
   "metadata": {},
   "source": [
    "# Benchmarking fklearn's space_time_split_dataset function\n",
    "\n",
    "## Motivation\n",
    "Issue: https://github.com/nubank/fklearn/issues/137\n",
    "\n",
    "Pull request: https://github.com/nubank/fklearn/pull/138"
   ]
  },
  {
   "cell_type": "code",
   "execution_count": 1,
   "metadata": {},
   "outputs": [
    {
     "name": "stdout",
     "output_type": "stream",
     "text": [
      "3.7.7\n"
     ]
    }
   ],
   "source": [
    "from platform import python_version\n",
    "\n",
    "print(python_version())"
   ]
  },
  {
   "cell_type": "code",
   "execution_count": 2,
   "metadata": {},
   "outputs": [
    {
     "data": {
      "text/plain": [
       "'1.18.0'"
      ]
     },
     "execution_count": 2,
     "metadata": {},
     "output_type": "execute_result"
    }
   ],
   "source": [
    "import fklearn\n",
    "\n",
    "fklearn.__version__"
   ]
  },
  {
   "cell_type": "code",
   "execution_count": 3,
   "metadata": {},
   "outputs": [],
   "source": [
    "import numpy as np\n",
    "\n",
    "np.random.seed(42)"
   ]
  },
  {
   "cell_type": "markdown",
   "metadata": {},
   "source": [
    "# Data\n",
    "I will use fklearn's make_tutorial_data function to generate our data\n",
    "\n",
    "# Original function\n",
    "- Importing here the original `space_time_split_dataset` function (old)\n",
    "- Defined below Jessica's version as `new_space_time_split_dataset`"
   ]
  },
  {
   "cell_type": "code",
   "execution_count": 4,
   "metadata": {},
   "outputs": [],
   "source": [
    "from fklearn.data.datasets import make_tutorial_data\n",
    "from fklearn.preprocessing.splitting import space_time_split_dataset"
   ]
  },
  {
   "cell_type": "markdown",
   "metadata": {},
   "source": [
    "# Jessica's fix\n",
    "Source: https://github.com/jessicadesousa/fklearn/blob/split-time-space-slow/src/fklearn/preprocessing/splitting.py"
   ]
  },
  {
   "cell_type": "code",
   "execution_count": 5,
   "metadata": {},
   "outputs": [],
   "source": [
    "from typing import Tuple\n",
    "\n",
    "import numpy as np\n",
    "from numpy.random import RandomState\n",
    "import pandas as pd\n",
    "from toolz import curry\n",
    "\n",
    "from fklearn.types import DateType\n",
    "\n",
    "@curry\n",
    "def new_space_time_split_dataset(dataset: pd.DataFrame,\n",
    "                             train_start_date: DateType,\n",
    "                             train_end_date: DateType,\n",
    "                             holdout_end_date: DateType,\n",
    "                             split_seed: int,\n",
    "                             space_holdout_percentage: float,\n",
    "                             space_column: str,\n",
    "                             time_column: str,\n",
    "                             holdout_space: np.ndarray = None,\n",
    "                             holdout_start_date: DateType = None) -> Tuple[pd.DataFrame, ...]:\n",
    "    \"\"\"\n",
    "    Splits panel data using both ID and Time columns, resulting in four datasets\n",
    "    1. A training set;\n",
    "    2. An in training time, but out sample id hold out dataset;\n",
    "    3. An out of training time, but in sample id hold out dataset;\n",
    "    4. An out of training time and out of sample id hold out dataset.\n",
    "    Parameters\n",
    "    ----------\n",
    "    dataset : pandas.DataFrame\n",
    "        A Pandas' DataFrame with an Identifier Column and a Date Column.\n",
    "        The model will be trained to predict the target column\n",
    "        from the features.\n",
    "    train_start_date : str\n",
    "        A date string representing a the starting time of the training data.\n",
    "        It should be in the same format as the Date Column in `dataset`.\n",
    "    train_end_date : str\n",
    "        A date string representing a the ending time of the training data.\n",
    "        This will also be used as the start date of the holdout period if no `holdout_start_date` is given.\n",
    "        It should be in the same format as the Date Column in `dataset`.\n",
    "    holdout_end_date : str\n",
    "        A date string representing a the ending time of the holdout data.\n",
    "        It should be in the same format as the Date Column in `dataset`.\n",
    "    split_seed : int\n",
    "        A seed used by the random number generator.\n",
    "    space_holdout_percentage : float\n",
    "        The out of id holdout size as a proportion of the in id training\n",
    "        size.\n",
    "    space_column : str\n",
    "        The name of the Identifier column of `dataset`.\n",
    "    time_column : str\n",
    "        The name of the Date column of `dataset`.\n",
    "    holdout_space : np.array\n",
    "        An array containing the hold out IDs. If not specified,\n",
    "        A random subset of IDs will be selected for holdout.\n",
    "    holdout_start_date: str\n",
    "        A date string representing the starting time of the holdout data.\n",
    "        If `None` is given it will be equal to `train_end_date`.\n",
    "        It should be in the same format as the Date Column in `dataset`.\n",
    "    Returns\n",
    "    ----------\n",
    "    train_set : pandas.DataFrame\n",
    "        The in ID sample and in time training set.\n",
    "    intime_outspace_hdout : pandas.DataFrame\n",
    "        The out of ID sample and in time hold out set.\n",
    "    outime_inspace_hdout : pandas.DataFrame\n",
    "        The in ID sample and out of time hold out set.\n",
    "    outime_outspace_hdout : pandas.DataFrame\n",
    "        The out of ID sample and out of time hold out set.\n",
    "    \"\"\"\n",
    "    holdout_start_date = holdout_start_date if holdout_start_date else train_end_date\n",
    "\n",
    "    in_time_mask = (dataset[time_column] >= train_start_date) & (dataset[time_column] < train_end_date)\n",
    "    out_time_mask = (dataset[time_column] >= holdout_start_date) & (dataset[time_column] < holdout_end_date)\n",
    "\n",
    "    all_space_in_time = dataset[in_time_mask][space_column].unique()\n",
    "\n",
    "    if holdout_space is None:\n",
    "        # for repeatability\n",
    "        state = RandomState(split_seed)\n",
    "        train_period_space = np.sort(all_space_in_time)\n",
    "\n",
    "        # randomly sample accounts from the train period to hold out\n",
    "        partial_holdout_space = state.choice(train_period_space,\n",
    "                                             int(space_holdout_percentage * len(train_period_space)),\n",
    "                                             replace=False)\n",
    "\n",
    "        in_space = pd.Index(all_space_in_time).difference(pd.Index(partial_holdout_space)).values\n",
    "\n",
    "    else:\n",
    "        in_space = pd.Index(all_space_in_time).difference(pd.Index(holdout_space)).values\n",
    "\n",
    "    in_space_mask = dataset[space_column].isin(in_space)\n",
    "\n",
    "    train_set = dataset[in_space_mask & in_time_mask]\n",
    "    intime_outspace_hdout = dataset[~in_space_mask & in_time_mask]\n",
    "    outtime_outspace_hdout = dataset[~in_space_mask & out_time_mask]\n",
    "    outtime_inspace_hdout = dataset[in_space_mask & out_time_mask]\n",
    "\n",
    "    return train_set, intime_outspace_hdout, outtime_inspace_hdout, outtime_outspace_hdout"
   ]
  },
  {
   "cell_type": "code",
   "execution_count": 6,
   "metadata": {},
   "outputs": [],
   "source": [
    "TRAIN_START_DATE = '2015-01-01' \n",
    "TRAIN_END_DATE = '2015-03-01' \n",
    "HOLDOUT_END_DATE = '2015-04-01'\n",
    "\n",
    "split_fn = space_time_split_dataset(train_start_date=TRAIN_START_DATE,\n",
    "                                train_end_date=TRAIN_END_DATE,\n",
    "                                holdout_end_date=HOLDOUT_END_DATE,\n",
    "                                space_holdout_percentage=.5,\n",
    "                                split_seed=42, \n",
    "                                space_column=\"id\",\n",
    "                                time_column=\"date\")\n",
    "\n",
    "new_split_fn = new_space_time_split_dataset(train_start_date=TRAIN_START_DATE,\n",
    "                                train_end_date=TRAIN_END_DATE,\n",
    "                                holdout_end_date=HOLDOUT_END_DATE,\n",
    "                                space_holdout_percentage=.5,\n",
    "                                split_seed=42, \n",
    "                                space_column=\"id\",\n",
    "                                time_column=\"date\")"
   ]
  },
  {
   "cell_type": "code",
   "execution_count": 7,
   "metadata": {},
   "outputs": [],
   "source": [
    "sample_sizes = [10000, 100000, 250000, 500000, 750000, 1000000]\n",
    "data = make_tutorial_data(sample_sizes[-1])"
   ]
  },
  {
   "cell_type": "code",
   "execution_count": 11,
   "metadata": {},
   "outputs": [
    {
     "name": "stdout",
     "output_type": "stream",
     "text": [
      "7.32 ms ± 0 ns per loop (mean ± std. dev. of 1 run, 100 loops each)\n",
      "7.33 ms ± 0 ns per loop (mean ± std. dev. of 1 run, 100 loops each)\n",
      "27.4 ms ± 0 ns per loop (mean ± std. dev. of 1 run, 10 loops each)\n",
      "27.6 ms ± 0 ns per loop (mean ± std. dev. of 1 run, 10 loops each)\n",
      "60.1 ms ± 0 ns per loop (mean ± std. dev. of 1 run, 10 loops each)\n",
      "59.9 ms ± 0 ns per loop (mean ± std. dev. of 1 run, 10 loops each)\n",
      "115 ms ± 0 ns per loop (mean ± std. dev. of 1 run, 10 loops each)\n",
      "113 ms ± 0 ns per loop (mean ± std. dev. of 1 run, 10 loops each)\n",
      "170 ms ± 0 ns per loop (mean ± std. dev. of 1 run, 10 loops each)\n",
      "168 ms ± 0 ns per loop (mean ± std. dev. of 1 run, 10 loops each)\n",
      "226 ms ± 0 ns per loop (mean ± std. dev. of 1 run, 1 loop each)\n",
      "223 ms ± 0 ns per loop (mean ± std. dev. of 1 run, 1 loop each)\n"
     ]
    }
   ],
   "source": [
    "old_function_times = []\n",
    "new_function_times = []\n",
    "\n",
    "for sample_size in sample_sizes:\n",
    "    time_old = %timeit -r 1 -o split_fn(data[:sample_size])\n",
    "    old_function_times.append(time_old.best)\n",
    "    time_new = %timeit -r 1 -o new_split_fn(data[:sample_size])\n",
    "    new_function_times.append(time_new.best)"
   ]
  },
  {
   "cell_type": "code",
   "execution_count": 12,
   "metadata": {},
   "outputs": [
    {
     "data": {
      "text/plain": [
       "[0.007322853000000009,\n",
       " 0.027418999999999017,\n",
       " 0.06013975000000045,\n",
       " 0.11499270999999993,\n",
       " 0.1698096199999995,\n",
       " 0.22558290000000625]"
      ]
     },
     "execution_count": 12,
     "metadata": {},
     "output_type": "execute_result"
    }
   ],
   "source": [
    "old_function_times"
   ]
  },
  {
   "cell_type": "code",
   "execution_count": 13,
   "metadata": {},
   "outputs": [
    {
     "data": {
      "text/plain": [
       "[0.007327887000000004,\n",
       " 0.02758636000000081,\n",
       " 0.05994749999999982,\n",
       " 0.11279924999999906,\n",
       " 0.16823847,\n",
       " 0.22343239999997877]"
      ]
     },
     "execution_count": 13,
     "metadata": {},
     "output_type": "execute_result"
    }
   ],
   "source": [
    "new_function_times"
   ]
  },
  {
   "cell_type": "code",
   "execution_count": 14,
   "metadata": {},
   "outputs": [
    {
     "data": {
      "image/png": "[encoded data removed]",
      "text/plain": [
       "<Figure size 1280x720 with 1 Axes>"
      ]
     },
     "metadata": {
      "needs_background": "light"
     },
     "output_type": "display_data"
    }
   ],
   "source": [
    "import matplotlib.pyplot as plt\n",
    "\n",
    "plt.figure(dpi=80, figsize=(16, 9))\n",
    "plt.plot(\n",
    "    sample_sizes,\n",
    "    old_function_times,\n",
    "    color=\"blue\",\n",
    "    marker=\"o\",\n",
    "    markersize=5,\n",
    "    label=\"Old function times\",\n",
    ")\n",
    "plt.plot(\n",
    "    sample_sizes,\n",
    "    new_function_times,\n",
    "    color=\"green\",\n",
    "    linestyle=\"--\",\n",
    "    marker=\"s\",\n",
    "    markersize=5,\n",
    "    label=\"New function times\",\n",
    ")\n",
    "plt.grid()\n",
    "plt.xlabel(\"Size of the dataset (# samples)\")\n",
    "plt.ylabel(\"Time (seconds)\")\n",
    "plt.legend()\n",
    "plt.show()"
   ]
  },
  {
   "cell_type": "markdown",
   "metadata": {},
   "source": [
    "## Preliminary conclusions\n",
    "- No difference between functions in execution time\n",
    "\n",
    "## Data\n",
    "- If we investigate the `make_tutorial_data` function we will see that:\n",
    "\n",
    "```python\n",
    "dataset = pd.DataFrame({\n",
    "        \"id\": list(map(lambda x: \"id%d\" % x, np.random.randint(0, 100, n))),\n",
    "        \"date\": np.random.choice(pd.date_range(\"2015-01-01\", periods=100), n),\n",
    "        \"feature1\": np.random.gamma(20, size=n),\n",
    "        \"feature2\": np.random.normal(40, size=n),\n",
    "        \"feature3\": np.random.choice([\"a\", \"b\", \"c\"], size=n)})\n",
    "```\n",
    "\n",
    "The id column is generated concatenating the string id and a random integer between 0 and 100, let's investigate the difference in execution time if we increase random integer range to 1M (probably increasing the uniques)"
   ]
  },
  {
   "cell_type": "code",
   "execution_count": 15,
   "metadata": {},
   "outputs": [],
   "source": [
    "import numpy as np\n",
    "from numpy import nan\n",
    "import pandas as pd\n",
    "\n",
    "\n",
    "def new_make_tutorial_data(n: int) -> pd.DataFrame:\n",
    "    \"\"\"\n",
    "    Generates fake data for a tutorial. There are 3 numerical features (\"num1\", \"num3\" and \"num3\")\n",
    "    and tow categorical features (\"cat1\" and \"cat2\")\n",
    "    sex, age and severity, the treatment is a binary variable, medication and the response\n",
    "    days until recovery.\n",
    "    Parameters\n",
    "    ----------\n",
    "    n : int\n",
    "        The number of samples to generate\n",
    "    Returns\n",
    "    ----------\n",
    "    df : pd.DataFrame\n",
    "        A tutorial dataset\n",
    "    \"\"\"\n",
    "    np.random.seed(1111)\n",
    "\n",
    "    dataset = pd.DataFrame({\n",
    "        \"id\": list(map(lambda x: \"id%d\" % x, np.random.randint(0, 1000000, n))),\n",
    "        \"date\": np.random.choice(pd.date_range(\"2015-01-01\", periods=100), n),\n",
    "        \"feature1\": np.random.gamma(20, size=n),\n",
    "        \"feature2\": np.random.normal(40, size=n),\n",
    "        \"feature3\": np.random.choice([\"a\", \"b\", \"c\"], size=n)})\n",
    "\n",
    "    dataset[\"target\"] = (dataset[\"feature1\"]\n",
    "                         + dataset[\"feature2\"]\n",
    "                         + dataset[\"feature3\"].apply(lambda x: 0 if x == \"a\" else 30 if x == \"b\" else 10)\n",
    "                         + np.random.normal(0, 5, size=n))\n",
    "\n",
    "    # insert some NANs\n",
    "    dataset.loc[np.random.randint(0, n, 100), \"feature1\"] = nan\n",
    "    dataset.loc[np.random.randint(0, n, 100), \"feature3\"] = nan\n",
    "\n",
    "    return dataset"
   ]
  },
  {
   "cell_type": "code",
   "execution_count": 16,
   "metadata": {},
   "outputs": [],
   "source": [
    "sample_sizes = [10000, 100000, 250000, 500000, 750000, 1000000]\n",
    "data = new_make_tutorial_data(sample_sizes[-1])"
   ]
  },
  {
   "cell_type": "code",
   "execution_count": 17,
   "metadata": {},
   "outputs": [
    {
     "name": "stdout",
     "output_type": "stream",
     "text": [
      "291 ms ± 0 ns per loop (mean ± std. dev. of 1 run, 1 loop each)\n",
      "13.1 ms ± 0 ns per loop (mean ± std. dev. of 1 run, 100 loops each)\n",
      "25 s ± 0 ns per loop (mean ± std. dev. of 1 run, 1 loop each)\n",
      "112 ms ± 0 ns per loop (mean ± std. dev. of 1 run, 10 loops each)\n",
      "2min 38s ± 0 ns per loop (mean ± std. dev. of 1 run, 1 loop each)\n",
      "335 ms ± 0 ns per loop (mean ± std. dev. of 1 run, 1 loop each)\n",
      "8min 58s ± 0 ns per loop (mean ± std. dev. of 1 run, 1 loop each)\n",
      "801 ms ± 0 ns per loop (mean ± std. dev. of 1 run, 1 loop each)\n",
      "18min 8s ± 0 ns per loop (mean ± std. dev. of 1 run, 1 loop each)\n",
      "1.26 s ± 0 ns per loop (mean ± std. dev. of 1 run, 1 loop each)\n",
      "29min 21s ± 0 ns per loop (mean ± std. dev. of 1 run, 1 loop each)\n",
      "1.68 s ± 0 ns per loop (mean ± std. dev. of 1 run, 1 loop each)\n"
     ]
    }
   ],
   "source": [
    "old_function_times = []\n",
    "new_function_times = []\n",
    "\n",
    "for sample_size in sample_sizes:\n",
    "    time_old = %timeit -r 1 -o split_fn(data[:sample_size])\n",
    "    old_function_times.append(time_old.best)\n",
    "    time_new = %timeit -r 1 -o new_split_fn(data[:sample_size])\n",
    "    new_function_times.append(time_new.best)"
   ]
  },
  {
   "cell_type": "code",
   "execution_count": 18,
   "metadata": {},
   "outputs": [
    {
     "data": {
      "text/plain": [
       "[0.2914055999999903,\n",
       " 25.002141499999993,\n",
       " 158.75621130000002,\n",
       " 538.6514996000001,\n",
       " 1088.5079799999999,\n",
       " 1761.0925338999996]"
      ]
     },
     "execution_count": 18,
     "metadata": {},
     "output_type": "execute_result"
    }
   ],
   "source": [
    "old_function_times"
   ]
  },
  {
   "cell_type": "code",
   "execution_count": 19,
   "metadata": {},
   "outputs": [
    {
     "data": {
      "text/plain": [
       "[0.013109436000000016,\n",
       " 0.11223484000000213,\n",
       " 0.3350396000000728,\n",
       " 0.80093480000005,\n",
       " 1.2604999999998654,\n",
       " 1.6836789999997563]"
      ]
     },
     "execution_count": 19,
     "metadata": {},
     "output_type": "execute_result"
    }
   ],
   "source": [
    "new_function_times"
   ]
  },
  {
   "cell_type": "code",
   "execution_count": 20,
   "metadata": {},
   "outputs": [
    {
     "data": {
      "image/png": "[encoded data removed]",
      "text/plain": [
       "<Figure size 1280x720 with 1 Axes>"
      ]
     },
     "metadata": {
      "needs_background": "light"
     },
     "output_type": "display_data"
    }
   ],
   "source": [
    "plt.figure(dpi=80, figsize=(16, 9))\n",
    "plt.plot(\n",
    "    sample_sizes,\n",
    "    old_function_times,\n",
    "    color=\"blue\",\n",
    "    marker=\"o\",\n",
    "    markersize=5,\n",
    "    label=\"Old function times\",\n",
    ")\n",
    "plt.plot(\n",
    "    sample_sizes,\n",
    "    new_function_times,\n",
    "    color=\"green\",\n",
    "    linestyle=\"--\",\n",
    "    marker=\"s\",\n",
    "    markersize=5,\n",
    "    label=\"New function times\",\n",
    ")\n",
    "plt.grid()\n",
    "plt.xlabel(\"Size of the dataset (# samples)\")\n",
    "plt.ylabel(\"Time (seconds)\")\n",
    "plt.legend()\n",
    "plt.show()"
   ]
  },
  {
   "cell_type": "code",
   "execution_count": 21,
   "metadata": {},
   "outputs": [
    {
     "data": {
      "text/plain": [
       "1045.9787963740444"
      ]
     },
     "execution_count": 21,
     "metadata": {},
     "output_type": "execute_result"
    }
   ],
   "source": [
    "old_function_times[-1] / new_function_times[-1]"
   ]
  },
  {
   "cell_type": "code",
   "execution_count": 22,
   "metadata": {},
   "outputs": [
    {
     "data": {
      "text/plain": [
       "863.5525426419009"
      ]
     },
     "execution_count": 22,
     "metadata": {},
     "output_type": "execute_result"
    }
   ],
   "source": [
    "old_function_times[-2] / new_function_times[-2]"
   ]
  },
  {
   "cell_type": "markdown",
   "metadata": {},
   "source": [
    "# Conclusions\n",
    "- Major speed up (~1000x faster) for large datasets (1M rows) with many unique values in the `space_column`\n",
    "- Pratically no difference in speed for datasets with few distinct values in the `space_column`\n",
    "\n",
    "> \"It takes about 30-60 minutes to split a 0.5-1million rows dataset, which seems somewhat excessive\" - @tatasz\n",
    "\n",
    "- The affirmative seems to be coherent with the times I found in my computer with 1M rows and `\"id\": list(map(lambda x: \"id%d\" % x, np.random.randint(0, 1000000, n)))` -> 29min 21s\n",
    "- The fix by @jessicadesouza brings the time down from 29min 21s to 1.68s"
   ]
  },
  {
   "cell_type": "code",
   "execution_count": null,
   "metadata": {},
   "outputs": [],
   "source": []
  }
 ],
 "metadata": {
  "kernelspec": {
   "display_name": "Python 3",
   "language": "python",
   "name": "python3"
  },
  "language_info": {
   "codemirror_mode": {
    "name": "ipython",
    "version": 3
   },
   "file_extension": ".py",
   "mimetype": "text/x-python",
   "name": "python",
   "nbconvert_exporter": "python",
   "pygments_lexer": "ipython3",
   "version": "3.7.7"
  }
 },
 "nbformat": 4,
 "nbformat_minor": 4
}
